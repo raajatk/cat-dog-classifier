{
 "cells": [
  {
   "cell_type": "code",
   "execution_count": 1,
   "metadata": {},
   "outputs": [
    {
     "name": "stderr",
     "output_type": "stream",
     "text": [
      "Using TensorFlow backend.\n"
     ]
    }
   ],
   "source": [
    "from keras.preprocessing.image import ImageDataGenerator\n",
    "\n",
    "datagen = ImageDataGenerator(\n",
    "        rotation_range=40,\n",
    "        width_shift_range=0.2,\n",
    "        height_shift_range=0.2,\n",
    "        rescale=1./255,\n",
    "        shear_range=0.2,\n",
    "        zoom_range=0.2,\n",
    "        horizontal_flip=True,\n",
    "        fill_mode='nearest')"
   ]
  },
  {
   "cell_type": "code",
   "execution_count": 8,
   "metadata": {},
   "outputs": [],
   "source": [
    "from keras.models import Sequential\n",
    "from keras.layers import Conv2D, MaxPooling2D\n",
    "from keras.layers import Activation, Dropout, Flatten, Dense\n",
    "\n",
    "model = Sequential()\n",
    "model.add(Conv2D(32, (3, 3), input_shape=(150, 150, 3)))\n",
    "model.add(Activation('relu'))\n",
    "model.add(MaxPooling2D(pool_size=(2, 2)))\n",
    "\n",
    "model.add(Conv2D(32, (3, 3)))\n",
    "model.add(Activation('relu'))\n",
    "model.add(MaxPooling2D(pool_size=(2, 2)))\n",
    "\n",
    "model.add(Conv2D(32, (3, 3)))\n",
    "model.add(Activation('relu'))\n",
    "model.add(MaxPooling2D(pool_size=(2, 2)))\n",
    "\n",
    "model.add(Conv2D(32, (3, 3)))\n",
    "model.add(Activation('relu'))\n",
    "model.add(MaxPooling2D(pool_size=(2, 2)))\n",
    "\n",
    "\n",
    "model.add(Conv2D(64, (3, 3)))\n",
    "model.add(Activation('relu'))\n",
    "model.add(MaxPooling2D(pool_size=(2, 2)))"
   ]
  },
  {
   "cell_type": "code",
   "execution_count": 9,
   "metadata": {},
   "outputs": [],
   "source": [
    "model.add(Flatten())  # this converts our 3D feature maps to 1D feature vectors\n",
    "model.add(Dense(64))\n",
    "model.add(Activation('relu'))\n",
    "model.add(Dropout(0.5))\n",
    "model.add(Dense(1))\n",
    "model.add(Activation('sigmoid'))\n",
    "\n",
    "model.compile(loss='binary_crossentropy',\n",
    "              optimizer='rmsprop',\n",
    "              metrics=['accuracy'])"
   ]
  },
  {
   "cell_type": "code",
   "execution_count": 12,
   "metadata": {},
   "outputs": [
    {
     "name": "stdout",
     "output_type": "stream",
     "text": [
      "Found 24778 images belonging to 2 classes.\n",
      "Found 222 images belonging to 2 classes.\n"
     ]
    }
   ],
   "source": [
    "batch_size = 96\n",
    "\n",
    "# this is the augmentation configuration we will use for training\n",
    "train_datagen = ImageDataGenerator(\n",
    "        rescale=1./255,\n",
    "        shear_range=0.2,\n",
    "        zoom_range=0.2,\n",
    "        horizontal_flip=True)\n",
    "\n",
    "# this is the augmentation configuration we will use for testing:\n",
    "# only rescaling\n",
    "test_datagen = ImageDataGenerator(rescale=1./255)\n",
    "\n",
    "# this is a generator that will read pictures found in\n",
    "# subfolers of 'data/train', and indefinitely generate\n",
    "# batches of augmented image data\n",
    "train_generator = train_datagen.flow_from_directory(\n",
    "        'train/',  # this is the target directory\n",
    "        target_size=(150, 150),  # all images will be resized to 150x150\n",
    "        batch_size=batch_size,\n",
    "        class_mode='binary')  # since we use binary_crossentropy loss, we need binary labels\n",
    "\n",
    "# this is a similar generator, for validation data\n",
    "validation_generator = test_datagen.flow_from_directory(\n",
    "        'validation/',\n",
    "        target_size=(150, 150),\n",
    "        batch_size=batch_size,\n",
    "        class_mode='binary')"
   ]
  },
  {
   "cell_type": "code",
   "execution_count": 14,
   "metadata": {},
   "outputs": [
    {
     "name": "stdout",
     "output_type": "stream",
     "text": [
      "Epoch 1/25\n",
      "200/200 [==============================] - 506s 3s/step - loss: 0.6684 - acc: 0.5867 - val_loss: 0.6787 - val_acc: 0.6081\n",
      "Epoch 2/25\n",
      "200/200 [==============================] - 397s 2s/step - loss: 0.5985 - acc: 0.6812 - val_loss: 0.5420 - val_acc: 0.7387\n",
      "Epoch 3/25\n",
      "200/200 [==============================] - 383s 2s/step - loss: 0.5477 - acc: 0.7255 - val_loss: 0.5296 - val_acc: 0.7522\n",
      "Epoch 4/25\n",
      "200/200 [==============================] - 390s 2s/step - loss: 0.5114 - acc: 0.7496 - val_loss: 0.5071 - val_acc: 0.7434\n",
      "Epoch 5/25\n",
      "200/200 [==============================] - 393s 2s/step - loss: 0.4826 - acc: 0.7703 - val_loss: 0.5293 - val_acc: 0.7477\n",
      "Epoch 6/25\n",
      "200/200 [==============================] - 390s 2s/step - loss: 0.4583 - acc: 0.7829 - val_loss: 0.4427 - val_acc: 0.7883\n",
      "Epoch 7/25\n",
      "200/200 [==============================] - 396s 2s/step - loss: 0.4288 - acc: 0.8047 - val_loss: 0.3984 - val_acc: 0.8063\n",
      "Epoch 8/25\n",
      "200/200 [==============================] - 387s 2s/step - loss: 0.4119 - acc: 0.8176 - val_loss: 0.3877 - val_acc: 0.8153\n",
      "Epoch 9/25\n",
      "200/200 [==============================] - 383s 2s/step - loss: 0.3825 - acc: 0.8258 - val_loss: 0.3955 - val_acc: 0.8153\n",
      "Epoch 10/25\n",
      "200/200 [==============================] - 381s 2s/step - loss: 0.3591 - acc: 0.8384 - val_loss: 0.3949 - val_acc: 0.7972\n",
      "Epoch 11/25\n",
      "200/200 [==============================] - 383s 2s/step - loss: 0.3497 - acc: 0.8443 - val_loss: 0.3410 - val_acc: 0.8244\n",
      "Epoch 12/25\n",
      "200/200 [==============================] - 390s 2s/step - loss: 0.3311 - acc: 0.8556 - val_loss: 0.3694 - val_acc: 0.8243\n",
      "Epoch 13/25\n",
      "200/200 [==============================] - 388s 2s/step - loss: 0.3169 - acc: 0.8622 - val_loss: 0.3264 - val_acc: 0.8423\n",
      "Epoch 14/25\n",
      "200/200 [==============================] - 381s 2s/step - loss: 0.3021 - acc: 0.8726 - val_loss: 0.3371 - val_acc: 0.8469\n",
      "Epoch 15/25\n",
      "200/200 [==============================] - 384s 2s/step - loss: 0.2876 - acc: 0.8769 - val_loss: 0.3901 - val_acc: 0.8289\n",
      "Epoch 16/25\n",
      "200/200 [==============================] - 382s 2s/step - loss: 0.2833 - acc: 0.8769 - val_loss: 0.2854 - val_acc: 0.8874\n",
      "Epoch 17/25\n",
      "200/200 [==============================] - 384s 2s/step - loss: 0.2697 - acc: 0.8870 - val_loss: 0.2648 - val_acc: 0.8873\n",
      "Epoch 18/25\n",
      "200/200 [==============================] - 383s 2s/step - loss: 0.2638 - acc: 0.8872 - val_loss: 0.2420 - val_acc: 0.8648\n",
      "Epoch 19/25\n",
      "200/200 [==============================] - 382s 2s/step - loss: 0.2586 - acc: 0.8935 - val_loss: 0.2690 - val_acc: 0.8829\n",
      "Epoch 20/25\n",
      "200/200 [==============================] - 399s 2s/step - loss: 0.2457 - acc: 0.8954 - val_loss: 0.2476 - val_acc: 0.8964\n",
      "Epoch 21/25\n",
      "200/200 [==============================] - 388s 2s/step - loss: 0.2379 - acc: 0.8998 - val_loss: 0.2537 - val_acc: 0.8694\n",
      "Epoch 22/25\n",
      "200/200 [==============================] - 385s 2s/step - loss: 0.2358 - acc: 0.9003 - val_loss: 0.3631 - val_acc: 0.8604\n",
      "Epoch 23/25\n",
      "200/200 [==============================] - 387s 2s/step - loss: 0.2345 - acc: 0.9035 - val_loss: 0.2358 - val_acc: 0.8964\n",
      "Epoch 24/25\n",
      "200/200 [==============================] - 384s 2s/step - loss: 0.2315 - acc: 0.9023 - val_loss: 0.2993 - val_acc: 0.8738\n",
      "Epoch 25/25\n",
      "200/200 [==============================] - 385s 2s/step - loss: 0.2210 - acc: 0.9060 - val_loss: 0.2335 - val_acc: 0.8875\n"
     ]
    }
   ],
   "source": [
    "model.fit_generator(\n",
    "        train_generator,\n",
    "        steps_per_epoch=200,\n",
    "        epochs=25,\n",
    "        validation_data=validation_generator,\n",
    "        validation_steps=800)\n",
    "model.save('second_try.h5')"
   ]
  },
  {
   "cell_type": "code",
   "execution_count": 21,
   "metadata": {},
   "outputs": [
    {
     "name": "stdout",
     "output_type": "stream",
     "text": [
      "CAT 0.0\n"
     ]
    }
   ],
   "source": [
    "from keras.preprocessing import image\n",
    "import numpy as np\n",
    "test_image = image.load_img('/home/katiyar/Documents/ML/Cat03.jpg',target_size=(150,150))\n",
    "test_image.show()\n",
    "test_image = image.img_to_array(test_image)\n",
    "test_image = np.expand_dims(test_image,axis=0)\n",
    "result = model.predict(test_image)\n",
    "if(result[0,0]<0.5):\n",
    "    print(\"CAT\",result[0,0])\n",
    "else:\n",
    "    print(\"DOG\",result[0,0])\n"
   ]
  },
  {
   "cell_type": "code",
   "execution_count": null,
   "metadata": {},
   "outputs": [],
   "source": []
  }
 ],
 "metadata": {
  "kernelspec": {
   "display_name": "Python 3",
   "language": "python",
   "name": "python3"
  },
  "language_info": {
   "codemirror_mode": {
    "name": "ipython",
    "version": 3
   },
   "file_extension": ".py",
   "mimetype": "text/x-python",
   "name": "python",
   "nbconvert_exporter": "python",
   "pygments_lexer": "ipython3",
   "version": "3.6.8"
  }
 },
 "nbformat": 4,
 "nbformat_minor": 2
}
